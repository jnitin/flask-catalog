{
 "cells": [
  {
   "cell_type": "markdown",
   "metadata": {},
   "source": [
    "# End to End testing with python-requests\n",
    "- http://docs.python-requests.org/en/master\n",
    "- http://docs.python-requests.org/en/master/user/quickstart/#make-a-request\n",
    "\n",
    "## BEFORE YOU RUN THESE TESTS: \n",
    "- Delete app.db\n",
    "- Start the server, which will create a fresh database, with a default Admin, Usermanager and User"
   ]
  },
  {
   "cell_type": "markdown",
   "metadata": {},
   "source": [
    "### Set some global variables & import modules"
   ]
  },
  {
   "cell_type": "code",
   "execution_count": null,
   "metadata": {},
   "outputs": [],
   "source": [
    "SERVER = 'http://localhost:5000'\n",
    "\n",
    "import requests\n",
    "import json\n",
    "from base64 import b64encode\n",
    "from datetime import datetime, date, time\n",
    "\n",
    "from io import BytesIO\n",
    "from PIL import Image\n",
    "\n",
    "import tempfile\n",
    "\n",
    "from tests_utils import pprint_sequence\n",
    "from e2e_tests_utils import pprint_request, pprint_response"
   ]
  },
  {
   "cell_type": "markdown",
   "metadata": {},
   "source": [
    "### Define some helper functions & global variables"
   ]
  },
  {
   "cell_type": "code",
   "execution_count": null,
   "metadata": {},
   "outputs": [],
   "source": [
    "def get_api_headers(email, password):\n",
    "    return {\n",
    "        'Authorization': 'Basic ' + b64encode(\n",
    "            (email + ':' + password).encode('utf-8')).decode('utf-8'),\n",
    "        'Content-Type': 'application/vnd.api+json',\n",
    "        'Accept': 'application/vnd.api+json'\n",
    "    }\n",
    "\n",
    "def get_api_headers_multiform(email, password):\n",
    "    return {\n",
    "        'Authorization': 'Basic ' + b64encode(\n",
    "            (email + ':' + password).encode('utf-8')).decode('utf-8'),\n",
    "        'Content-Type': 'multipart/form-data',\n",
    "        'Accept': 'application/vnd.api+json'\n",
    "    }\n",
    "\n",
    "def pprint_request_and_response(r,\n",
    "                                print_request_body=True,\n",
    "                                print_response_text=True,\n",
    "                                print_response_content=True):\n",
    "    print('=================================')\n",
    "    print('===THE REQUEST WE SENT===')\n",
    "    print('=================================')\n",
    "    pprint_request(r.request, print_body=print_request_body)\n",
    "    print('=================================')\n",
    "    print('===THE RESPONSE WE RECEIVED===')\n",
    "    print('=================================')\n",
    "    pprint_response(r, \n",
    "                    print_text=print_response_text, \n",
    "                    print_content=print_response_content)\n",
    "\n",
    "# to get access to instance/config.py\n",
    "import e2e_my_file_location\n",
    "from instance.config import ADMIN_EMAIL, ADMIN_PW,\\\n",
    "                            USERMANAGER_EMAIL, USERMANAGER_PW,\\\n",
    "                            USER_EMAIL, USER_PW,\\\n",
    "        NUTRINIONIX_APP_ID, NUTRINIONIX_APP_KEY\n",
    "        "
   ]
  },
  {
   "cell_type": "markdown",
   "metadata": {},
   "source": [
    "### TEST: Register myself as a user"
   ]
  },
  {
   "cell_type": "code",
   "execution_count": null,
   "metadata": {},
   "outputs": [],
   "source": [
    "url = SERVER+'/api/v1/users/'\n",
    "headers = {\n",
    "    'Content-Type': 'application/vnd.api+json',\n",
    "    'Accept': 'application/vnd.api+json'\n",
    "    }\n",
    "payload = {\n",
    "    \"data\": {\n",
    "        \"type\": \"user\",\n",
    "        \"attributes\": {\n",
    "            \"email\": 'arjaan.buijk@gmail.com',\n",
    "            \"password\": \"a_real_password\",\n",
    "            \"first_name\": \"Arjaan\",\n",
    "            \"last_name\": \"Buijk\",\n",
    "        }\n",
    "    }\n",
    "}\n",
    "\n",
    "r = requests.post(url, headers=headers, json=payload)"
   ]
  },
  {
   "cell_type": "code",
   "execution_count": null,
   "metadata": {},
   "outputs": [],
   "source": [
    "pprint_request_and_response(r,\n",
    "                            print_request_body=True,\n",
    "                            print_response_text=True,\n",
    "                            print_response_content=False)"
   ]
  },
  {
   "cell_type": "markdown",
   "metadata": {},
   "source": [
    "#### Store link to myself, for usage below."
   ]
  },
  {
   "cell_type": "code",
   "execution_count": null,
   "metadata": {},
   "outputs": [],
   "source": [
    "json_response = json.loads(r.text)\n",
    "url_to_self = json_response['links']['self']\n",
    "print('url_to_self = {}'.format(url_to_self))"
   ]
  },
  {
   "cell_type": "markdown",
   "metadata": {},
   "source": [
    "### TEST: Without activating account, getting a token must be denied"
   ]
  },
  {
   "cell_type": "code",
   "execution_count": null,
   "metadata": {},
   "outputs": [],
   "source": [
    "url = SERVER+'/api/v1/token'\n",
    "headers = get_api_headers('arjaan.buijk@gmail.com',\n",
    "                          'a_real_password')"
   ]
  },
  {
   "cell_type": "code",
   "execution_count": null,
   "metadata": {},
   "outputs": [],
   "source": [
    "r = requests.post(url, headers=headers)"
   ]
  },
  {
   "cell_type": "code",
   "execution_count": null,
   "metadata": {},
   "outputs": [],
   "source": [
    "pprint_request_and_response(r,\n",
    "                            print_request_body=True,\n",
    "                            print_response_text=True,\n",
    "                            print_response_content=False)"
   ]
  },
  {
   "cell_type": "markdown",
   "metadata": {},
   "source": [
    "### NOTE: Activate Account before running next test:\n",
    "- check email to activate the account\n",
    "- after activating the account, logout from the website"
   ]
  },
  {
   "cell_type": "markdown",
   "metadata": {},
   "source": [
    "## TEST: get token now that account is activated"
   ]
  },
  {
   "cell_type": "code",
   "execution_count": null,
   "metadata": {},
   "outputs": [],
   "source": [
    "url = SERVER+'/api/v1/token'\n",
    "headers = get_api_headers('arjaan.buijk@gmail.com',\n",
    "                          'a_real_password')\n",
    "r = requests.post(url, headers=headers)\n",
    "pprint_request_and_response(r,\n",
    "                            print_request_body=True,\n",
    "                            print_response_text=True,\n",
    "                            print_response_content=False)"
   ]
  },
  {
   "cell_type": "markdown",
   "metadata": {},
   "source": [
    "### Store the token for usage below"
   ]
  },
  {
   "cell_type": "code",
   "execution_count": null,
   "metadata": {},
   "outputs": [],
   "source": [
    "json_response = json.loads(r.text)\n",
    "token = json_response['token']\n",
    "print('token = {}'.format(token))"
   ]
  },
  {
   "cell_type": "markdown",
   "metadata": {},
   "source": [
    "---\n",
    "## ENTERING ITEMS"
   ]
  },
  {
   "cell_type": "code",
   "execution_count": null,
   "metadata": {},
   "outputs": [],
   "source": [
    "url = SERVER+'/api/v1/items/'\n",
    "headers = get_api_headers(token,'')\n",
    "data = {\n",
    "    \"data\": {\n",
    "        \"type\": \"item\",\n",
    "        \"attributes\": {\n",
    "            \"date\": '{}'.format(date(2018,1,5)),\n",
    "            \"time\": '{}'.format(time(18,5,15)),\n",
    "            \"description\": \"TODO!!!!\"\n",
    "        }\n",
    "    }\n",
    "}\n",
    "r = requests.post(url, headers=headers, json=data)\n",
    "pprint_request_and_response(r,\n",
    "                            print_request_body=True,\n",
    "                            print_response_text=True,\n",
    "                            print_response_content=False)"
   ]
  },
  {
   "cell_type": "markdown",
   "metadata": {},
   "source": [
    "### Verify only Admin, Usermanager and myself can access my data, not another regular user"
   ]
  },
  {
   "cell_type": "code",
   "execution_count": null,
   "metadata": {},
   "outputs": [],
   "source": [
    "url = SERVER+url_to_self\n",
    "\n",
    "headers = get_api_headers(ADMIN_EMAIL,ADMIN_PW)\n",
    "r = requests.get(url, headers=headers)\n",
    "print('Retrieve my data as Admin. Status code = {}'.format(r.status_code))\n",
    "\n",
    "headers = get_api_headers(USERMANAGER_EMAIL,USERMANAGER_PW)\n",
    "r = requests.get(url, headers=headers)\n",
    "print('Retrieve my data as Usermanager. Status code = {}'.format(r.status_code))\n",
    "\n",
    "headers = get_api_headers(token,'')\n",
    "r = requests.get(url, headers=headers)\n",
    "print('Retrieve my data as myself. Status code = {}'.format(r.status_code))\n",
    "\n",
    "headers = get_api_headers(USER_EMAIL,USER_PW)\n",
    "r = requests.get(url, headers=headers)\n",
    "print('Retrieve my data as other user. Status code = {}'.format(r.status_code))\n"
   ]
  },
  {
   "cell_type": "markdown",
   "metadata": {},
   "source": [
    "### Upload a profile picture, using multipart/form-data type request"
   ]
  },
  {
   "cell_type": "code",
   "execution_count": null,
   "metadata": {},
   "outputs": [],
   "source": [
    "url = SERVER+'/api/v1/profile_pic'\n",
    "r = requests.post(url, auth=(token,''), files={'profile_pic': open('test_profile_pic.gif', 'rb')})"
   ]
  },
  {
   "cell_type": "code",
   "execution_count": null,
   "metadata": {},
   "outputs": [],
   "source": [
    "pprint_request_and_response(r,\n",
    "                            print_request_body=False,\n",
    "                            print_response_text=True,\n",
    "                            print_response_content=False)"
   ]
  },
  {
   "cell_type": "markdown",
   "metadata": {},
   "source": [
    "---\n",
    "### Retrieve the profile picture"
   ]
  },
  {
   "cell_type": "code",
   "execution_count": null,
   "metadata": {},
   "outputs": [],
   "source": [
    "url = SERVER+'/api/v1/profile_pic'\n",
    "r = requests.get(url, auth=(token,''))"
   ]
  },
  {
   "cell_type": "code",
   "execution_count": null,
   "metadata": {},
   "outputs": [],
   "source": [
    "pprint_request_and_response(r,\n",
    "                            print_request_body=False,\n",
    "                            print_response_text=False,\n",
    "                            print_response_content=False)"
   ]
  },
  {
   "cell_type": "markdown",
   "metadata": {},
   "source": [
    "#### Store the profile picture in a Pillow Image, and then\n",
    "- Display it\n",
    "- Save it to disk"
   ]
  },
  {
   "cell_type": "code",
   "execution_count": null,
   "metadata": {},
   "outputs": [],
   "source": [
    "img = Image.open(BytesIO(r.content))"
   ]
  },
  {
   "cell_type": "code",
   "execution_count": null,
   "metadata": {},
   "outputs": [],
   "source": [
    "img.show()"
   ]
  },
  {
   "cell_type": "code",
   "execution_count": null,
   "metadata": {},
   "outputs": [],
   "source": [
    "fh, filename = tempfile.mkstemp(suffix='.gif', prefix='profile_pic_')\n",
    "img.save(filename)\n",
    "print('Saved profile picture to {}'.format(filename))"
   ]
  },
  {
   "cell_type": "markdown",
   "metadata": {},
   "source": [
    "---\n",
    "### Lock my account by entering wrong password 3 times"
   ]
  },
  {
   "cell_type": "code",
   "execution_count": null,
   "metadata": {},
   "outputs": [],
   "source": [
    "url = SERVER+'/api/v1/token'\n",
    "headers = get_api_headers('arjaan.buijk@gmail.com',\n",
    "                          'a_wrong_password')\n",
    "for i in range(4):\n",
    "    r = requests.post(url, headers=headers)\n",
    "    print('Wrong attempt {} gives status_code={}'.format(i,r.status_code))"
   ]
  },
  {
   "cell_type": "code",
   "execution_count": null,
   "metadata": {},
   "outputs": [],
   "source": [
    "pprint_request_and_response(r,\n",
    "                            print_request_body=False,\n",
    "                            print_response_text=True,\n",
    "                            print_response_content=False)"
   ]
  },
  {
   "cell_type": "markdown",
   "metadata": {},
   "source": [
    "---\n",
    "### Admin can unlock the account"
   ]
  },
  {
   "cell_type": "code",
   "execution_count": null,
   "metadata": {},
   "outputs": [],
   "source": [
    "url = SERVER+url_to_self+'/unblock'\n",
    "headers = get_api_headers(ADMIN_EMAIL,ADMIN_PW)"
   ]
  },
  {
   "cell_type": "code",
   "execution_count": null,
   "metadata": {},
   "outputs": [],
   "source": [
    "r = requests.post(url, headers=headers)"
   ]
  },
  {
   "cell_type": "code",
   "execution_count": null,
   "metadata": {},
   "outputs": [],
   "source": [
    "pprint_request_and_response(r,\n",
    "                            print_request_body=False,\n",
    "                            print_response_text=True,\n",
    "                            print_response_content=False)"
   ]
  },
  {
   "cell_type": "markdown",
   "metadata": {},
   "source": [
    "#### Verify it is unlocked, by retrieving a new token"
   ]
  },
  {
   "cell_type": "code",
   "execution_count": null,
   "metadata": {},
   "outputs": [],
   "source": [
    "url = SERVER+'/api/v1/token'\n",
    "headers = get_api_headers('arjaan.buijk@gmail.com',\n",
    "                          'a_real_password')\n",
    "r = requests.post(url, headers=headers)\n",
    "pprint_request_and_response(r,\n",
    "                            print_request_body=True,\n",
    "                            print_response_text=True,\n",
    "                            print_response_content=False)\n",
    "json_response = json.loads(r.text)\n",
    "token = json_response['token']\n",
    "print('token = {}'.format(token))"
   ]
  },
  {
   "cell_type": "markdown",
   "metadata": {},
   "source": [
    "---\n",
    "### Delete my account"
   ]
  },
  {
   "cell_type": "code",
   "execution_count": null,
   "metadata": {},
   "outputs": [],
   "source": [
    "url = SERVER+url_to_self\n",
    "headers = get_api_headers('arjaan.buijk@gmail.com',\n",
    "                          'a_real_password')\n",
    "r = requests.delete(url, headers=headers)\n",
    "pprint_request_and_response(r,\n",
    "                            print_request_body=True,\n",
    "                            print_response_text=True,\n",
    "                            print_response_content=False)"
   ]
  },
  {
   "cell_type": "markdown",
   "metadata": {},
   "source": [
    "---\n",
    "### As admin, invite me to join"
   ]
  },
  {
   "cell_type": "code",
   "execution_count": null,
   "metadata": {},
   "outputs": [],
   "source": [
    "url = SERVER+'/api/v1/invite/arjaan.buijk@gmail.com'\n",
    "headers = get_api_headers(ADMIN_EMAIL,ADMIN_PW)"
   ]
  },
  {
   "cell_type": "code",
   "execution_count": null,
   "metadata": {},
   "outputs": [],
   "source": [
    "r = requests.post(url, headers=headers)"
   ]
  },
  {
   "cell_type": "code",
   "execution_count": null,
   "metadata": {},
   "outputs": [],
   "source": [
    "pprint_request_and_response(r,\n",
    "                            print_request_body=True,\n",
    "                            print_response_text=True,\n",
    "                            print_response_content=False)"
   ]
  },
  {
   "cell_type": "markdown",
   "metadata": {},
   "source": [
    "### NOTE: Finish Account Registration before running next test:\n",
    "- check email to finish the account registration\n",
    "- after activating the account, logout from the website"
   ]
  },
  {
   "cell_type": "markdown",
   "metadata": {},
   "source": [
    "### Verify that account is active, by getting a new token"
   ]
  },
  {
   "cell_type": "code",
   "execution_count": null,
   "metadata": {},
   "outputs": [],
   "source": [
    "url = SERVER+'/api/v1/token'\n",
    "headers = get_api_headers('arjaan.buijk@gmail.com',\n",
    "                          'a_real_password')\n",
    "r = requests.post(url, headers=headers)\n",
    "json_response = json.loads(r.text)\n",
    "token = json_response['token']\n",
    "print('token = {}'.format(token))"
   ]
  },
  {
   "cell_type": "markdown",
   "metadata": {},
   "source": [
    "---\n",
    "## Filtering"
   ]
  },
  {
   "cell_type": "markdown",
   "metadata": {},
   "source": [
    "### Get user's info via a filter object in query string"
   ]
  },
  {
   "cell_type": "code",
   "execution_count": null,
   "metadata": {},
   "outputs": [],
   "source": [
    "qs=[{\"name\":\"email\",\"op\":\"eq\",\"val\":\"{}\".format(\"arjaan.buijk@gmail.com\")}]\n",
    "url = SERVER+'/api/v1/users?filter='+json.dumps(qs)\n",
    "headers = get_api_headers(ADMIN_EMAIL,ADMIN_PW)\n",
    "r = requests.get(url, headers=headers)\n",
    "pprint_request_and_response(r,\n",
    "                            print_request_body=True,\n",
    "                            print_response_text=True,\n",
    "                            print_response_content=False)"
   ]
  },
  {
   "cell_type": "markdown",
   "metadata": {},
   "source": [
    "### 'or' filter on users"
   ]
  },
  {
   "cell_type": "code",
   "execution_count": null,
   "metadata": {},
   "outputs": [],
   "source": [
    "# 'or' filter on users\n",
    "email1 = \"arjaan.buijk@gmail.com\"\n",
    "email2 = USER_EMAIL\n",
    "qs=[{\"or\":[{\"name\":\"email\",\"op\":\"eq\",\"val\":\"{}\".format(email1)},\n",
    "           {\"name\":\"email\",\"op\":\"eq\",\"val\":\"{}\".format(email2)}\n",
    "           ]\n",
    "     }\n",
    "    ]\n",
    "url = SERVER+'/api/v1/users?filter='+json.dumps(qs)\n",
    "headers = get_api_headers(ADMIN_EMAIL,ADMIN_PW)\n",
    "r = requests.get(url, headers=headers)\n",
    "pprint_request_and_response(r,\n",
    "                            print_request_body=True,\n",
    "                            print_response_text=True,\n",
    "                            print_response_content=False)\n"
   ]
  },
  {
   "cell_type": "markdown",
   "metadata": {},
   "source": [
    "### Fancy filter "
   ]
  },
  {
   "cell_type": "code",
   "execution_count": null,
   "metadata": {},
   "outputs": [],
   "source": [
    "qs=[ { 'and': [\t{'or': [{'name': 'date', 'op': 'eq', 'val': '2018-01-05'},\n",
    "                        {'name': 'date', 'op': 'eq', 'val': '2018-01-10'}\n",
    "                       ]\n",
    "                },\n",
    "                {'or': [{'name': 'calories', 'op': 'gt', 'val': '300.0'},\n",
    "                        {'name': 'calories', 'op': 'lt', 'val': '1000.0'}\n",
    "                       ]\n",
    "                }\n",
    "              ]\n",
    "     }\n",
    "   ]\n",
    "\n",
    "url = SERVER+'/api/v1/meals?filter='+json.dumps(qs)\n",
    "headers = get_api_headers(ADMIN_EMAIL,ADMIN_PW)\n",
    "r = requests.get(url, headers=headers)\n",
    "pprint_request_and_response(r,\n",
    "                            print_request_body=True,\n",
    "                            print_response_text=True,\n",
    "                            print_response_content=False)\n"
   ]
  },
  {
   "cell_type": "markdown",
   "metadata": {},
   "source": [
    "---\n",
    "# SANDBOX"
   ]
  },
  {
   "cell_type": "markdown",
   "metadata": {},
   "source": [
    "### Testing nutritionix api"
   ]
  },
  {
   "cell_type": "code",
   "execution_count": null,
   "metadata": {},
   "outputs": [],
   "source": [
    "app_id = NUTRINIONIX_APP_ID\n",
    "app_key = NUTRINIONIX_APP_KEY\n",
    "description = \"Potatoes, a Veggie Patty and a Milk\"\n",
    "\n",
    "url = 'https://trackapi.nutritionix.com/v2/natural/nutrients'\n",
    "headers = {\n",
    "    'Content-Type': 'application/json',\n",
    "    'x-app-id': '{}'.format(app_id),\n",
    "    'x-app-key': '{}'.format(app_key),\n",
    "    'Accept': 'application/vnd.api+json'\n",
    "    }\n",
    "payload = {\n",
    "    \"query\": description\n",
    "}\n",
    "\n",
    "r = requests.post(url, headers=headers, json=payload)"
   ]
  },
  {
   "cell_type": "code",
   "execution_count": null,
   "metadata": {
    "scrolled": true
   },
   "outputs": [],
   "source": [
    "pprint_request_and_response(r,\n",
    "                            print_request_body=True,\n",
    "                            print_response_text=True,\n",
    "                            print_response_content=False)"
   ]
  },
  {
   "cell_type": "code",
   "execution_count": null,
   "metadata": {},
   "outputs": [],
   "source": [
    "r_json = json.loads(r.text)\n",
    "foods = r_json['foods']\n",
    "total_calories = 0\n",
    "for food in foods:\n",
    "    print('Calories in {} is {}'.format(food['food_name'], food['nf_calories']))\n",
    "    total_calories += food['nf_calories']\n",
    "print('_____________________________________________________________________ +')\n",
    "print('Total calories of this meal is {}'.format(total_calories))"
   ]
  },
  {
   "cell_type": "markdown",
   "metadata": {},
   "source": [
    "### Available methods and attributes for request"
   ]
  },
  {
   "cell_type": "code",
   "execution_count": null,
   "metadata": {},
   "outputs": [],
   "source": [
    "dir(r.request)"
   ]
  },
  {
   "cell_type": "markdown",
   "metadata": {},
   "source": [
    "### Available methods and attributes for response"
   ]
  },
  {
   "cell_type": "code",
   "execution_count": null,
   "metadata": {},
   "outputs": [],
   "source": [
    "dir(r)"
   ]
  },
  {
   "cell_type": "code",
   "execution_count": null,
   "metadata": {},
   "outputs": [],
   "source": [
    "print (url)"
   ]
  },
  {
   "cell_type": "code",
   "execution_count": null,
   "metadata": {},
   "outputs": [],
   "source": [
    "print(r.content)"
   ]
  },
  {
   "cell_type": "code",
   "execution_count": null,
   "metadata": {},
   "outputs": [],
   "source": [
    "print (r.text)"
   ]
  },
  {
   "cell_type": "code",
   "execution_count": null,
   "metadata": {},
   "outputs": [],
   "source": [
    "open('test_profile_pic.gif', 'rb')\n"
   ]
  },
  {
   "cell_type": "code",
   "execution_count": null,
   "metadata": {},
   "outputs": [],
   "source": [
    "import os.path\n",
    "os.path.isfile('test_profile_pic.gif')\n"
   ]
  },
  {
   "cell_type": "code",
   "execution_count": null,
   "metadata": {},
   "outputs": [],
   "source": [
    "img = Image.open(StringIO(r.text))"
   ]
  },
  {
   "cell_type": "code",
   "execution_count": null,
   "metadata": {},
   "outputs": [],
   "source": []
  }
 ],
 "metadata": {
  "kernelspec": {
   "display_name": "Python 3",
   "language": "python",
   "name": "python3"
  },
  "language_info": {
   "codemirror_mode": {
    "name": "ipython",
    "version": 3
   },
   "file_extension": ".py",
   "mimetype": "text/x-python",
   "name": "python",
   "nbconvert_exporter": "python",
   "pygments_lexer": "ipython3",
   "version": "3.5.2"
  }
 },
 "nbformat": 4,
 "nbformat_minor": 2
}
